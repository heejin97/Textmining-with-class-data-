{
  "nbformat": 4,
  "nbformat_minor": 0,
  "metadata": {
    "colab": {
      "name": "2020-1 수기데이터 텍스트마이닝.ipynb",
      "provenance": [],
      "collapsed_sections": []
    },
    "kernelspec": {
      "name": "python3",
      "display_name": "Python 3"
    },
    "accelerator": "GPU",
    "widgets": {
      "application/vnd.jupyter.widget-state+json": {
        "6c28b3c96a834eb3b810d6b63dcc5abe": {
          "model_module": "@jupyter-widgets/controls",
          "model_name": "HBoxModel",
          "state": {
            "_view_name": "HBoxView",
            "_dom_classes": [],
            "_model_name": "HBoxModel",
            "_view_module": "@jupyter-widgets/controls",
            "_model_module_version": "1.5.0",
            "_view_count": null,
            "_view_module_version": "1.5.0",
            "box_style": "",
            "layout": "IPY_MODEL_ed2258e1a9694dba8ccf0d68af61f79e",
            "_model_module": "@jupyter-widgets/controls",
            "children": [
              "IPY_MODEL_175d4e991280476ebd4c9606e4f067bd",
              "IPY_MODEL_370171c9ff244d1785ea7709926dff8c"
            ]
          }
        },
        "ed2258e1a9694dba8ccf0d68af61f79e": {
          "model_module": "@jupyter-widgets/base",
          "model_name": "LayoutModel",
          "state": {
            "_view_name": "LayoutView",
            "grid_template_rows": null,
            "right": null,
            "justify_content": null,
            "_view_module": "@jupyter-widgets/base",
            "overflow": null,
            "_model_module_version": "1.2.0",
            "_view_count": null,
            "flex_flow": null,
            "width": null,
            "min_width": null,
            "border": null,
            "align_items": null,
            "bottom": null,
            "_model_module": "@jupyter-widgets/base",
            "top": null,
            "grid_column": null,
            "overflow_y": null,
            "overflow_x": null,
            "grid_auto_flow": null,
            "grid_area": null,
            "grid_template_columns": null,
            "flex": null,
            "_model_name": "LayoutModel",
            "justify_items": null,
            "grid_row": null,
            "max_height": null,
            "align_content": null,
            "visibility": null,
            "align_self": null,
            "height": null,
            "min_height": null,
            "padding": null,
            "grid_auto_rows": null,
            "grid_gap": null,
            "max_width": null,
            "order": null,
            "_view_module_version": "1.2.0",
            "grid_template_areas": null,
            "object_position": null,
            "object_fit": null,
            "grid_auto_columns": null,
            "margin": null,
            "display": null,
            "left": null
          }
        },
        "175d4e991280476ebd4c9606e4f067bd": {
          "model_module": "@jupyter-widgets/controls",
          "model_name": "FloatProgressModel",
          "state": {
            "_view_name": "ProgressView",
            "style": "IPY_MODEL_63f41ce4666d42f0ad893d02f06f8baa",
            "_dom_classes": [],
            "description": "100%",
            "_model_name": "FloatProgressModel",
            "bar_style": "success",
            "max": 129,
            "_view_module": "@jupyter-widgets/controls",
            "_model_module_version": "1.5.0",
            "value": 129,
            "_view_count": null,
            "_view_module_version": "1.5.0",
            "orientation": "horizontal",
            "min": 0,
            "description_tooltip": null,
            "_model_module": "@jupyter-widgets/controls",
            "layout": "IPY_MODEL_3263d6bc4c614fbfbeb596bb6bc18b87"
          }
        },
        "370171c9ff244d1785ea7709926dff8c": {
          "model_module": "@jupyter-widgets/controls",
          "model_name": "HTMLModel",
          "state": {
            "_view_name": "HTMLView",
            "style": "IPY_MODEL_feeb336017e24f749efb0f4dca7750b7",
            "_dom_classes": [],
            "description": "",
            "_model_name": "HTMLModel",
            "placeholder": "​",
            "_view_module": "@jupyter-widgets/controls",
            "_model_module_version": "1.5.0",
            "value": " 129/129 [00:05&lt;00:00, 23.71it/s]",
            "_view_count": null,
            "_view_module_version": "1.5.0",
            "description_tooltip": null,
            "_model_module": "@jupyter-widgets/controls",
            "layout": "IPY_MODEL_4b5f84a389394c02abf32d707c5692b7"
          }
        },
        "63f41ce4666d42f0ad893d02f06f8baa": {
          "model_module": "@jupyter-widgets/controls",
          "model_name": "ProgressStyleModel",
          "state": {
            "_view_name": "StyleView",
            "_model_name": "ProgressStyleModel",
            "description_width": "initial",
            "_view_module": "@jupyter-widgets/base",
            "_model_module_version": "1.5.0",
            "_view_count": null,
            "_view_module_version": "1.2.0",
            "bar_color": null,
            "_model_module": "@jupyter-widgets/controls"
          }
        },
        "3263d6bc4c614fbfbeb596bb6bc18b87": {
          "model_module": "@jupyter-widgets/base",
          "model_name": "LayoutModel",
          "state": {
            "_view_name": "LayoutView",
            "grid_template_rows": null,
            "right": null,
            "justify_content": null,
            "_view_module": "@jupyter-widgets/base",
            "overflow": null,
            "_model_module_version": "1.2.0",
            "_view_count": null,
            "flex_flow": null,
            "width": null,
            "min_width": null,
            "border": null,
            "align_items": null,
            "bottom": null,
            "_model_module": "@jupyter-widgets/base",
            "top": null,
            "grid_column": null,
            "overflow_y": null,
            "overflow_x": null,
            "grid_auto_flow": null,
            "grid_area": null,
            "grid_template_columns": null,
            "flex": null,
            "_model_name": "LayoutModel",
            "justify_items": null,
            "grid_row": null,
            "max_height": null,
            "align_content": null,
            "visibility": null,
            "align_self": null,
            "height": null,
            "min_height": null,
            "padding": null,
            "grid_auto_rows": null,
            "grid_gap": null,
            "max_width": null,
            "order": null,
            "_view_module_version": "1.2.0",
            "grid_template_areas": null,
            "object_position": null,
            "object_fit": null,
            "grid_auto_columns": null,
            "margin": null,
            "display": null,
            "left": null
          }
        },
        "feeb336017e24f749efb0f4dca7750b7": {
          "model_module": "@jupyter-widgets/controls",
          "model_name": "DescriptionStyleModel",
          "state": {
            "_view_name": "StyleView",
            "_model_name": "DescriptionStyleModel",
            "description_width": "",
            "_view_module": "@jupyter-widgets/base",
            "_model_module_version": "1.5.0",
            "_view_count": null,
            "_view_module_version": "1.2.0",
            "_model_module": "@jupyter-widgets/controls"
          }
        },
        "4b5f84a389394c02abf32d707c5692b7": {
          "model_module": "@jupyter-widgets/base",
          "model_name": "LayoutModel",
          "state": {
            "_view_name": "LayoutView",
            "grid_template_rows": null,
            "right": null,
            "justify_content": null,
            "_view_module": "@jupyter-widgets/base",
            "overflow": null,
            "_model_module_version": "1.2.0",
            "_view_count": null,
            "flex_flow": null,
            "width": null,
            "min_width": null,
            "border": null,
            "align_items": null,
            "bottom": null,
            "_model_module": "@jupyter-widgets/base",
            "top": null,
            "grid_column": null,
            "overflow_y": null,
            "overflow_x": null,
            "grid_auto_flow": null,
            "grid_area": null,
            "grid_template_columns": null,
            "flex": null,
            "_model_name": "LayoutModel",
            "justify_items": null,
            "grid_row": null,
            "max_height": null,
            "align_content": null,
            "visibility": null,
            "align_self": null,
            "height": null,
            "min_height": null,
            "padding": null,
            "grid_auto_rows": null,
            "grid_gap": null,
            "max_width": null,
            "order": null,
            "_view_module_version": "1.2.0",
            "grid_template_areas": null,
            "object_position": null,
            "object_fit": null,
            "grid_auto_columns": null,
            "margin": null,
            "display": null,
            "left": null
          }
        },
        "07be21fbf64b45369ed81fac335b13f0": {
          "model_module": "@jupyter-widgets/controls",
          "model_name": "HBoxModel",
          "state": {
            "_view_name": "HBoxView",
            "_dom_classes": [],
            "_model_name": "HBoxModel",
            "_view_module": "@jupyter-widgets/controls",
            "_model_module_version": "1.5.0",
            "_view_count": null,
            "_view_module_version": "1.5.0",
            "box_style": "",
            "layout": "IPY_MODEL_d96340e4a6b0479292757556f0422b90",
            "_model_module": "@jupyter-widgets/controls",
            "children": [
              "IPY_MODEL_0ba6957822174906b41e08f1a5a8abd4",
              "IPY_MODEL_22d5ca5faf2b40d0866a56e17e0a12bb"
            ]
          }
        },
        "d96340e4a6b0479292757556f0422b90": {
          "model_module": "@jupyter-widgets/base",
          "model_name": "LayoutModel",
          "state": {
            "_view_name": "LayoutView",
            "grid_template_rows": null,
            "right": null,
            "justify_content": null,
            "_view_module": "@jupyter-widgets/base",
            "overflow": null,
            "_model_module_version": "1.2.0",
            "_view_count": null,
            "flex_flow": null,
            "width": null,
            "min_width": null,
            "border": null,
            "align_items": null,
            "bottom": null,
            "_model_module": "@jupyter-widgets/base",
            "top": null,
            "grid_column": null,
            "overflow_y": null,
            "overflow_x": null,
            "grid_auto_flow": null,
            "grid_area": null,
            "grid_template_columns": null,
            "flex": null,
            "_model_name": "LayoutModel",
            "justify_items": null,
            "grid_row": null,
            "max_height": null,
            "align_content": null,
            "visibility": null,
            "align_self": null,
            "height": null,
            "min_height": null,
            "padding": null,
            "grid_auto_rows": null,
            "grid_gap": null,
            "max_width": null,
            "order": null,
            "_view_module_version": "1.2.0",
            "grid_template_areas": null,
            "object_position": null,
            "object_fit": null,
            "grid_auto_columns": null,
            "margin": null,
            "display": null,
            "left": null
          }
        },
        "0ba6957822174906b41e08f1a5a8abd4": {
          "model_module": "@jupyter-widgets/controls",
          "model_name": "FloatProgressModel",
          "state": {
            "_view_name": "ProgressView",
            "style": "IPY_MODEL_a749f8e6c0114bcb830186b8e0483263",
            "_dom_classes": [],
            "description": "100%",
            "_model_name": "FloatProgressModel",
            "bar_style": "success",
            "max": 129,
            "_view_module": "@jupyter-widgets/controls",
            "_model_module_version": "1.5.0",
            "value": 129,
            "_view_count": null,
            "_view_module_version": "1.5.0",
            "orientation": "horizontal",
            "min": 0,
            "description_tooltip": null,
            "_model_module": "@jupyter-widgets/controls",
            "layout": "IPY_MODEL_d292a42402f749cca566c0c09a0242f4"
          }
        },
        "22d5ca5faf2b40d0866a56e17e0a12bb": {
          "model_module": "@jupyter-widgets/controls",
          "model_name": "HTMLModel",
          "state": {
            "_view_name": "HTMLView",
            "style": "IPY_MODEL_8684661f6e044b06be6fecf8f53850a9",
            "_dom_classes": [],
            "description": "",
            "_model_name": "HTMLModel",
            "placeholder": "​",
            "_view_module": "@jupyter-widgets/controls",
            "_model_module_version": "1.5.0",
            "value": " 129/129 [00:01&lt;00:00, 64.59it/s]",
            "_view_count": null,
            "_view_module_version": "1.5.0",
            "description_tooltip": null,
            "_model_module": "@jupyter-widgets/controls",
            "layout": "IPY_MODEL_8f278a99ad1a45c9b3c5751de3d24983"
          }
        },
        "a749f8e6c0114bcb830186b8e0483263": {
          "model_module": "@jupyter-widgets/controls",
          "model_name": "ProgressStyleModel",
          "state": {
            "_view_name": "StyleView",
            "_model_name": "ProgressStyleModel",
            "description_width": "initial",
            "_view_module": "@jupyter-widgets/base",
            "_model_module_version": "1.5.0",
            "_view_count": null,
            "_view_module_version": "1.2.0",
            "bar_color": null,
            "_model_module": "@jupyter-widgets/controls"
          }
        },
        "d292a42402f749cca566c0c09a0242f4": {
          "model_module": "@jupyter-widgets/base",
          "model_name": "LayoutModel",
          "state": {
            "_view_name": "LayoutView",
            "grid_template_rows": null,
            "right": null,
            "justify_content": null,
            "_view_module": "@jupyter-widgets/base",
            "overflow": null,
            "_model_module_version": "1.2.0",
            "_view_count": null,
            "flex_flow": null,
            "width": null,
            "min_width": null,
            "border": null,
            "align_items": null,
            "bottom": null,
            "_model_module": "@jupyter-widgets/base",
            "top": null,
            "grid_column": null,
            "overflow_y": null,
            "overflow_x": null,
            "grid_auto_flow": null,
            "grid_area": null,
            "grid_template_columns": null,
            "flex": null,
            "_model_name": "LayoutModel",
            "justify_items": null,
            "grid_row": null,
            "max_height": null,
            "align_content": null,
            "visibility": null,
            "align_self": null,
            "height": null,
            "min_height": null,
            "padding": null,
            "grid_auto_rows": null,
            "grid_gap": null,
            "max_width": null,
            "order": null,
            "_view_module_version": "1.2.0",
            "grid_template_areas": null,
            "object_position": null,
            "object_fit": null,
            "grid_auto_columns": null,
            "margin": null,
            "display": null,
            "left": null
          }
        },
        "8684661f6e044b06be6fecf8f53850a9": {
          "model_module": "@jupyter-widgets/controls",
          "model_name": "DescriptionStyleModel",
          "state": {
            "_view_name": "StyleView",
            "_model_name": "DescriptionStyleModel",
            "description_width": "",
            "_view_module": "@jupyter-widgets/base",
            "_model_module_version": "1.5.0",
            "_view_count": null,
            "_view_module_version": "1.2.0",
            "_model_module": "@jupyter-widgets/controls"
          }
        },
        "8f278a99ad1a45c9b3c5751de3d24983": {
          "model_module": "@jupyter-widgets/base",
          "model_name": "LayoutModel",
          "state": {
            "_view_name": "LayoutView",
            "grid_template_rows": null,
            "right": null,
            "justify_content": null,
            "_view_module": "@jupyter-widgets/base",
            "overflow": null,
            "_model_module_version": "1.2.0",
            "_view_count": null,
            "flex_flow": null,
            "width": null,
            "min_width": null,
            "border": null,
            "align_items": null,
            "bottom": null,
            "_model_module": "@jupyter-widgets/base",
            "top": null,
            "grid_column": null,
            "overflow_y": null,
            "overflow_x": null,
            "grid_auto_flow": null,
            "grid_area": null,
            "grid_template_columns": null,
            "flex": null,
            "_model_name": "LayoutModel",
            "justify_items": null,
            "grid_row": null,
            "max_height": null,
            "align_content": null,
            "visibility": null,
            "align_self": null,
            "height": null,
            "min_height": null,
            "padding": null,
            "grid_auto_rows": null,
            "grid_gap": null,
            "max_width": null,
            "order": null,
            "_view_module_version": "1.2.0",
            "grid_template_areas": null,
            "object_position": null,
            "object_fit": null,
            "grid_auto_columns": null,
            "margin": null,
            "display": null,
            "left": null
          }
        }
      }
    }
  },
  "cells": [
    {
      "cell_type": "code",
      "metadata": {
        "id": "wxil2aMvVIB9",
        "outputId": "b956e5b3-035b-4889-b634-48e526663c0e",
        "colab": {
          "base_uri": "https://localhost:8080/"
        }
      },
      "source": [
        "# 파일 불러오기 \n",
        "from google.colab import drive \n",
        "drive.mount('/content/drive')"
      ],
      "execution_count": 35,
      "outputs": [
        {
          "output_type": "stream",
          "text": [
            "Drive already mounted at /content/drive; to attempt to forcibly remount, call drive.mount(\"/content/drive\", force_remount=True).\n"
          ],
          "name": "stdout"
        }
      ]
    },
    {
      "cell_type": "code",
      "metadata": {
        "id": "GeNXbAg3WF1A",
        "outputId": "0b338fd2-8d5e-4860-9587-71864727c6f6",
        "colab": {
          "base_uri": "https://localhost:8080/"
        }
      },
      "source": [
        "import os # 필요한 패키지 임포트 \n",
        "\n",
        "try: \n",
        "  os.mkdir(path= \"/content/drive/My Drive/colab notebooks/textmining/result/\")\n",
        "except:\n",
        "  print(\"already exists\")"
      ],
      "execution_count": 36,
      "outputs": [
        {
          "output_type": "stream",
          "text": [
            "already exists\n"
          ],
          "name": "stdout"
        }
      ]
    },
    {
      "cell_type": "code",
      "metadata": {
        "id": "RiJbYBygW72i"
      },
      "source": [
        "# 저장할 경로 설정 \n",
        "save_dir = \"/content/drive/My Drive/colab notebooks/textmining/result/\""
      ],
      "execution_count": 37,
      "outputs": []
    },
    {
      "cell_type": "code",
      "metadata": {
        "id": "SR-8ctB7Xl1p",
        "outputId": "61903f83-0d1f-47a3-c817-78dea7443328",
        "colab": {
          "base_uri": "https://localhost:8080/"
        }
      },
      "source": [
        "# Knolpy 설치 \n",
        "!pip install konlpy"
      ],
      "execution_count": 38,
      "outputs": [
        {
          "output_type": "stream",
          "text": [
            "Requirement already satisfied: konlpy in /usr/local/lib/python3.6/dist-packages (0.5.2)\n",
            "Requirement already satisfied: beautifulsoup4==4.6.0 in /usr/local/lib/python3.6/dist-packages (from konlpy) (4.6.0)\n",
            "Requirement already satisfied: JPype1>=0.7.0 in /usr/local/lib/python3.6/dist-packages (from konlpy) (1.1.2)\n",
            "Requirement already satisfied: colorama in /usr/local/lib/python3.6/dist-packages (from konlpy) (0.4.4)\n",
            "Requirement already satisfied: tweepy>=3.7.0 in /usr/local/lib/python3.6/dist-packages (from konlpy) (3.9.0)\n",
            "Requirement already satisfied: numpy>=1.6 in /usr/local/lib/python3.6/dist-packages (from konlpy) (1.18.5)\n",
            "Requirement already satisfied: lxml>=4.1.0 in /usr/local/lib/python3.6/dist-packages (from konlpy) (4.2.6)\n",
            "Requirement already satisfied: typing-extensions; python_version < \"3.8\" in /usr/local/lib/python3.6/dist-packages (from JPype1>=0.7.0->konlpy) (3.7.4.3)\n",
            "Requirement already satisfied: six>=1.10.0 in /usr/local/lib/python3.6/dist-packages (from tweepy>=3.7.0->konlpy) (1.15.0)\n",
            "Requirement already satisfied: requests-oauthlib>=0.7.0 in /usr/local/lib/python3.6/dist-packages (from tweepy>=3.7.0->konlpy) (1.3.0)\n",
            "Requirement already satisfied: requests[socks]>=2.11.1 in /usr/local/lib/python3.6/dist-packages (from tweepy>=3.7.0->konlpy) (2.23.0)\n",
            "Requirement already satisfied: oauthlib>=3.0.0 in /usr/local/lib/python3.6/dist-packages (from requests-oauthlib>=0.7.0->tweepy>=3.7.0->konlpy) (3.1.0)\n",
            "Requirement already satisfied: urllib3!=1.25.0,!=1.25.1,<1.26,>=1.21.1 in /usr/local/lib/python3.6/dist-packages (from requests[socks]>=2.11.1->tweepy>=3.7.0->konlpy) (1.24.3)\n",
            "Requirement already satisfied: idna<3,>=2.5 in /usr/local/lib/python3.6/dist-packages (from requests[socks]>=2.11.1->tweepy>=3.7.0->konlpy) (2.10)\n",
            "Requirement already satisfied: chardet<4,>=3.0.2 in /usr/local/lib/python3.6/dist-packages (from requests[socks]>=2.11.1->tweepy>=3.7.0->konlpy) (3.0.4)\n",
            "Requirement already satisfied: certifi>=2017.4.17 in /usr/local/lib/python3.6/dist-packages (from requests[socks]>=2.11.1->tweepy>=3.7.0->konlpy) (2020.6.20)\n",
            "Requirement already satisfied: PySocks!=1.5.7,>=1.5.6; extra == \"socks\" in /usr/local/lib/python3.6/dist-packages (from requests[socks]>=2.11.1->tweepy>=3.7.0->konlpy) (1.7.1)\n"
          ],
          "name": "stdout"
        }
      ]
    },
    {
      "cell_type": "code",
      "metadata": {
        "id": "ttEI6vxrXwf1"
      },
      "source": [
        "# 필요한 패키지를 임포트합니다 \n",
        "import pandas as pd # 데이터프레임 형식 데이터를 다루기 위해 필요합니다 \n",
        "from konlpy.tag import Okt #twitter 형태소 분석기를 불러옵니다 \n",
        "import nltk #자연어 처리 프로그램입니다 \n",
        "import csv #csv 파일을 읽기 위해 필요합니다 \n",
        "from tqdm import tqdm_notebook as tqdm #진행 상황을 시각화해줍니다 \n",
        "import datetime as dt # 시간을 계산하기 위해 필요합니다. "
      ],
      "execution_count": 39,
      "outputs": []
    },
    {
      "cell_type": "code",
      "metadata": {
        "id": "z9VzCEaIYULF"
      },
      "source": [
        "# 진행상황을 텍스트로 표현하기 위한 함수입니다 \n",
        "def logging(msg):\n",
        "   a = dt.datetime.strftime(dt.datetime.now(), \"%Y-%m-%d %H:%M:%S\")\n",
        "   b = \"| \" + a.split(\" \")[0] + \" | \" + a.split(\" \")[1] + \" | \" + msg + \"\\n\"\n",
        "   print(b)"
      ],
      "execution_count": 40,
      "outputs": []
    },
    {
      "cell_type": "code",
      "metadata": {
        "id": "kekRbTmCZDm5",
        "outputId": "42f25628-f2fd-426e-954a-b5316d3bb8cb",
        "colab": {
          "base_uri": "https://localhost:8080/",
          "height": 279
        }
      },
      "source": [
        "# 감정 분석을 진행하기 위해 미리 수집한 블로그 데이터를 불러옵니다.\n",
        "blog_data = pd.read_csv(\"/content/drive/My Drive/colab notebooks/textmining/data/2020_1 final3.csv\", encoding = \"UTF-8\") \n",
        "blog_data.head()"
      ],
      "execution_count": 76,
      "outputs": [
        {
          "output_type": "execute_result",
          "data": {
            "text/html": [
              "<div>\n",
              "<style scoped>\n",
              "    .dataframe tbody tr th:only-of-type {\n",
              "        vertical-align: middle;\n",
              "    }\n",
              "\n",
              "    .dataframe tbody tr th {\n",
              "        vertical-align: top;\n",
              "    }\n",
              "\n",
              "    .dataframe thead th {\n",
              "        text-align: right;\n",
              "    }\n",
              "</style>\n",
              "<table border=\"1\" class=\"dataframe\">\n",
              "  <thead>\n",
              "    <tr style=\"text-align: right;\">\n",
              "      <th></th>\n",
              "      <th>student</th>\n",
              "      <th>structure</th>\n",
              "      <th>effort</th>\n",
              "      <th>evaluation</th>\n",
              "    </tr>\n",
              "  </thead>\n",
              "  <tbody>\n",
              "    <tr>\n",
              "      <th>0</th>\n",
              "      <td>1</td>\n",
              "      <td>이론 설명이 주가 된다. 하지만, 이론 설명만으로는 한 나라의 문화를 모두 이해하는...</td>\n",
              "      <td>매 수업 전 예습을 해서 오늘 배울 내용이 무엇인지를 먼저 파악했고, 수업이 끝난 ...</td>\n",
              "      <td>프랑스문화권연구 과목을 처음 들어봐서 기존의 대면 수업의 경우 어떤 방식으로 했는지...</td>\n",
              "    </tr>\n",
              "    <tr>\n",
              "      <th>1</th>\n",
              "      <td>2</td>\n",
              "      <td>교수님께서 해당 주차에 들어야 할 강의를 월요일, 수요일 강의로 나누어 차례로 스노...</td>\n",
              "      <td>수업을 제때제때 듣고 수업 자료에 필기를 했다. 수업에 관해 궁금한 것이 생기면 교...</td>\n",
              "      <td>온라인 강의를 통해 전에 들었던 강의를 다시 들을 수 있다는 것은 좋았다. 하지만 ...</td>\n",
              "    </tr>\n",
              "    <tr>\n",
              "      <th>2</th>\n",
              "      <td>3</td>\n",
              "      <td>이론 강의였으므로 수업 전체는 온라인으로 진행되었고, 1주일에 영상과 참고 자료가 ...</td>\n",
              "      <td>도움이 되었던 수업 방법은 직접 자료를 프린트해 필기를 하는 방식이었는데, 단순히 ...</td>\n",
              "      <td>과제 없이 수업이 진행된 점도 도움이 되었던 것 같습니다. 학습 평가 자체는 시험으...</td>\n",
              "    </tr>\n",
              "    <tr>\n",
              "      <th>3</th>\n",
              "      <td>4</td>\n",
              "      <td>이론과 실습이 병행되고 1회에 2시간, 주 2회 진행되는 수업이다. 온라인 수업으로...</td>\n",
              "      <td>수업 시간에 집중해서 들으며 이해한 내용을 최대한 필기로 남겨두려 하였다. 무엇보다...</td>\n",
              "      <td>수업 내용은 전체적으로 흥미롭고 유익했다. 중간중간 지금 배우는 것들이 실생활에서 ...</td>\n",
              "    </tr>\n",
              "    <tr>\n",
              "      <th>4</th>\n",
              "      <td>5</td>\n",
              "      <td>온라인으로 수업을 하게 되면서 이해를 못 하거나 궁금한 점이 생길 학생들을 걱정하여...</td>\n",
              "      <td>NaN</td>\n",
              "      <td>온라인 퀴즈와 과제를 실시했기에 기말고사에는 다른과목과 다르게 중간과 기말고사의 범...</td>\n",
              "    </tr>\n",
              "  </tbody>\n",
              "</table>\n",
              "</div>"
            ],
            "text/plain": [
              "   student  ...                                         evaluation\n",
              "0        1  ...  프랑스문화권연구 과목을 처음 들어봐서 기존의 대면 수업의 경우 어떤 방식으로 했는지...\n",
              "1        2  ...  온라인 강의를 통해 전에 들었던 강의를 다시 들을 수 있다는 것은 좋았다. 하지만 ...\n",
              "2        3  ...  과제 없이 수업이 진행된 점도 도움이 되었던 것 같습니다. 학습 평가 자체는 시험으...\n",
              "3        4  ...  수업 내용은 전체적으로 흥미롭고 유익했다. 중간중간 지금 배우는 것들이 실생활에서 ...\n",
              "4        5  ...  온라인 퀴즈와 과제를 실시했기에 기말고사에는 다른과목과 다르게 중간과 기말고사의 범...\n",
              "\n",
              "[5 rows x 4 columns]"
            ]
          },
          "metadata": {
            "tags": []
          },
          "execution_count": 76
        }
      ]
    },
    {
      "cell_type": "code",
      "metadata": {
        "id": "6kkDm_w7ODki"
      },
      "source": [
        "\"\"\"\n",
        "감정 분석 결과를 저장할 새로운 열 5개를 데이터셋에 추가합니다.\n",
        "tokens에는 게시글을 토큰화한 결과를 저장합니다.\n",
        "pos/nuet/neg 는 게시글의 긍정, 중립, 부정 점수를 저장합니다.\n",
        "sentiment 는 게시글의 감정 판정 결과를 저장합니다. \n",
        "\"\"\"\n",
        "\n",
        "blog_data[\"tokens\"] = None\n",
        "blog_data[\"pos\"] = None\n",
        "blog_data[\"neut\"] = None\n",
        "blog_data[\"neg\"] = None\n",
        "blog_data[\"sentiment\"] = None"
      ],
      "execution_count": 77,
      "outputs": []
    },
    {
      "cell_type": "code",
      "metadata": {
        "id": "fJsBzmgTL316"
      },
      "source": [
        "# '#단어: 부정점수: 중립점수: 긍정점수' 형식의 감정 사전을 만듭니다. \n",
        "# 사전 이름은 \"lexicon\" 이라 명명합니다. \n",
        "\n",
        "lexicon = dict()\n",
        "\n",
        "with open('/content/drive/My Drive/colab notebooks/textmining/polarity.csv', 'r', encoding='utf-8-sig') as polarity:\n",
        "    #next(polarity) # csv 파일에서 첫 행 건너뛰는 용도 \n",
        "    for line in csv.reader(polarity):\n",
        "        key = str()\n",
        "        for word in line[0].split(';'):\n",
        "            key += word.split('/')[0]\n",
        "\n",
        "        lexicon[key] = {'Neg': line[3], 'Neut': line[4], 'Pos': line[6]}"
      ],
      "execution_count": 78,
      "outputs": []
    },
    {
      "cell_type": "code",
      "metadata": {
        "id": "yfdWS8VdR_B5"
      },
      "source": [
        "# 주어진 텍스트에 대해 토큰화 작업을 하는 함수를 정의합니다. \n",
        "\n",
        "def get_token(text):\n",
        "    pos = []\n",
        "    tokenizer = Okt() #twitter 형태소 분석기를 불러옵니다.\n",
        "    if isinstance(text, float) == True: # 주어진 텍스트가 공백일 시 건너뜁니다.\n",
        "        tokens = \"Nothing\"\n",
        "    else:\n",
        "        tokens = tokenizer.pos(text)\n",
        "    \n",
        "    tags = ['Noun', 'Adjective', 'Verb', 'Adverb'] #형태소 중 명사, 형용사, 동사, 부사만 수집합니다. \n",
        "    #불용어를 정의합니다.         *불용어: 문장에서 내용을 나타내는데 큰 역할을 하지 않은 기능어. \n",
        "    stop_words = [\"등\", \"이\", \"하\", \"않\", \"있\", \"대하\", \"하지만\", \"지\", \"일\", \"속\", \"하\", \"되\", \"수업\", \"및\", \"교수님\", \"교수\", \"강의\",\n",
        "                 \"서\", \"있다\", \"것\", \"되었습니다\", \"하는\", \"한다\", \"했다\", \"주\", \"하였습니다\", \"대\", \"했습니다\", \"하여\", \"해보세요\",\n",
        "                  \"있는\", \"입니다\", \"있음\", \"되거나\", \"할\", \"있는\", \"관련\", \"해\", \"학생\",\"학우님\",\"학우\", \"없음\",\n",
        "                  \"월\", \"화\", \"수\",\"목\", \"금\", \"토\", \"일\", \"를\", \"나\", \"그\", \"위\", \"고\",\"와\", \"하며\", \"의\", \"가\",\n",
        "                 \"하겠습니다\", \"해야\", \"몇\", \"는\", \"전\", \"이를\",\"하고\", '시킵니다', '된', '있습니다', '제', \"이론\",\n",
        "                  \"월요일\", \"화요일\", \"수요일\", \"목요일\", \"금요일\", \"토요일\", \"일요일\",\n",
        "                 \"있는데요\", \"있는데\", \"볼\", \"로\", \"은\", \"총\", \"우\",\"보였다\", \"하기\", \"후\", \"간\", \"이번\", \"때\",\"원\",\n",
        "                 \"합시다\", \"중\", \"과\", \"저\",\"분\",\"방\",\"임\", \"된다\",\"날\",\"함\", \"있으며\",\"개\", \"될\",\"며\", \"보자\",\"합니다\",\"안녕하세요\",\n",
        "                 \"같습니다\",\"조\",\"다\", \"스\",\"가를\", \"경우\", \"무엇\",\"대한\",\"내용\", \"위해\", \"이후\",\"현재\", \"보시\",\n",
        "                 \"우리\", \"없는\", \"모두\",\"언제\",\"어디\", \"세\",\"사\", \"미\",\"데\", \"료\", \"그린\",\n",
        "                 \"한\", \"꾸준히\", \"하겠다\", \"리\",\"두었다\", \"또한\", \"들어\",\"통해\", \"바란다\", \"다음\",\" 이어\",\n",
        "                 \"됨\", \"됨\", \"됌\", \"또\", \"됐다\", \"촬용\", \"분야\", \"발표\", \"매일\", \"점\",\"출처\", \"기반\", \"예정\", \n",
        "                  \"오전\", \"계획\", \"오늘\", \"정부\", \"더\", \"마감\", \"분야\", \"상\",\"뜻\", \"특징\", \"업계\", \"크게\",\"하나\", \n",
        "                 \"콤\", \"재\", \"해서\", \"같다\", \"곳\", \"역시\",\"라며\", \"처\", \"첫\", \"보면\", \"창\", \"출\", \"번\", \"각각\",\"남기\",\"겸\",\"보기\"]\n",
        "    \n",
        "    for token in tokens:\n",
        "        if not tokens == \"Nothing\":\n",
        "          if token[1] in tags:\n",
        "            if not token[0] in stop_words: #불용어는 제외하고 \n",
        "              pos.append(token[0])  #토큰 수집\n",
        "        else:\n",
        "           continue\n",
        "\n",
        "    return pos"
      ],
      "execution_count": 79,
      "outputs": []
    },
    {
      "cell_type": "code",
      "metadata": {
        "id": "c-2KHUJ-R-T4"
      },
      "source": [
        "#감성분석 함수 정의\n",
        "def get_sentiment(token_list):\n",
        "    cnt = 0 # 평균을 내기 위해 토큰 개수를 셉니다. \n",
        "    pos = 0\n",
        "    neut = 0\n",
        "    neg = 0\n",
        "    sentiment = None\n",
        "    for token in token_list:\n",
        "        try:\n",
        "            #lexicon에 토큰이 없으면 건너뜁니다.\n",
        "            pos += float(lexicon[token][\"Pos\"]) # 토큰들의 긍정점수를 구해서 더합니다. \n",
        "            neut += float(lexicon[token][\"Neut\"]) # 토큰들의 중립점수를 구해서 더합니다.\n",
        "            neg += float(lexicon[token][\"Neg\"]) # 토큰들의 부정점수를 구해서 더합니다.\n",
        "            cnt += 1\n",
        "        except:\n",
        "            continue\n",
        "            \n",
        "    if not cnt == 0:   \n",
        "        pos = pos/cnt # 게시글의 긍정점수 평균을 구합니다. \n",
        "        neut = neut/cnt # 게시글의 중립점수 평균을 구합니다. \n",
        "        neg = neg/cnt # 게시글의 부정점수 평균을 구합니다. \n",
        "\n",
        "        # 논리구조를 통해 게시글의 최종 감정을 판정합니다. \n",
        "        # 긍정/중립/부정 점수를 비교해서 가장 높은 점수의 감정을 게시글의 감정으로 판정합니다. \n",
        "        if pos > neg:\n",
        "            if pos > neut:\n",
        "                sentiment = \"positive\"\n",
        "            else:\n",
        "                sentiment = \"neutral\"\n",
        "        elif pos < neg:\n",
        "            if neg > neut:\n",
        "                sentiment = \"negative\"\n",
        "            else:\n",
        "                sentiment = \"neutral\"\n",
        "        else:\n",
        "            if pos > neut:\n",
        "                sentiment = \"positive and negative\"\n",
        "            else:\n",
        "                sentiment = \"neutral\"   \n",
        "                \n",
        "        return pos, neut, neg, sentiment\n",
        "    else: \n",
        "        return [None, None, None, None]"
      ],
      "execution_count": 80,
      "outputs": []
    },
    {
      "cell_type": "code",
      "metadata": {
        "id": "vhbFbu6VR9xK"
      },
      "source": [
        "# 앞서 정의한 토큰화, 감정 분석 함수를 한 번에 실행하는 함수입니다.\n",
        "\n",
        "def execute_sentiment_analysis(data, lexicon):\n",
        "\n",
        "  logging(\"주어진 텍스트에 대해 감정 분석을 시작합니다.\")\n",
        "\n",
        "  for i in tqdm(range(0, len(data))):\n",
        "    token_list = get_token(data[\"evaluation\"][i])\n",
        "    data[\"pos\"][i], data[\"neut\"][i], data[\"neg\"][i], data[\"sentiment\"][i] = get_sentiment(token_list)\n",
        "    data[\"tokens\"][i] = token_list\n",
        "\n",
        "  \n",
        "  #csv 파일로 저장하기\n",
        "  file_name = \"/content/drive/My Drive/colab notebooks/textmining/result/textmining_analysis\" + \".csv\"\n",
        "  data.to_csv(file_name, index = False, encoding = \"utf-8-sig\")\n",
        "  logging(\"텍스트 감정 분석이 완료되었습니다. 결과를 csv 파일로 저장했습니다.\")\n",
        "\n",
        "  return data"
      ],
      "execution_count": 82,
      "outputs": []
    },
    {
      "cell_type": "code",
      "metadata": {
        "id": "N8dqyvihU1dj",
        "outputId": "3a8307f7-2e7d-444b-f792-992a538260b6",
        "colab": {
          "base_uri": "https://localhost:8080/",
          "height": 727,
          "referenced_widgets": [
            "6c28b3c96a834eb3b810d6b63dcc5abe",
            "ed2258e1a9694dba8ccf0d68af61f79e",
            "175d4e991280476ebd4c9606e4f067bd",
            "370171c9ff244d1785ea7709926dff8c",
            "63f41ce4666d42f0ad893d02f06f8baa",
            "3263d6bc4c614fbfbeb596bb6bc18b87",
            "feeb336017e24f749efb0f4dca7750b7",
            "4b5f84a389394c02abf32d707c5692b7"
          ]
        }
      },
      "source": [
        "sentiment_result = execute_sentiment_analysis(blog_data, lexicon)\n",
        "logging(\"결과 일부를 출력합니다\")\n",
        "sentiment_result[[\"tokens\",\"pos\",\"neut\",\"neg\",\"sentiment\"]].head(10)"
      ],
      "execution_count": 84,
      "outputs": [
        {
          "output_type": "stream",
          "text": [
            "| 2020-11-10 | 22:46:07 | 주어진 텍스트에 대해 감정 분석을 시작합니다.\n",
            "\n"
          ],
          "name": "stdout"
        },
        {
          "output_type": "stream",
          "text": [
            "/usr/local/lib/python3.6/dist-packages/ipykernel_launcher.py:7: TqdmDeprecationWarning: This function will be removed in tqdm==5.0.0\n",
            "Please use `tqdm.notebook.tqdm` instead of `tqdm.tqdm_notebook`\n",
            "  import sys\n"
          ],
          "name": "stderr"
        },
        {
          "output_type": "display_data",
          "data": {
            "application/vnd.jupyter.widget-view+json": {
              "model_id": "6c28b3c96a834eb3b810d6b63dcc5abe",
              "version_minor": 0,
              "version_major": 2
            },
            "text/plain": [
              "HBox(children=(FloatProgress(value=0.0, max=129.0), HTML(value='')))"
            ]
          },
          "metadata": {
            "tags": []
          }
        },
        {
          "output_type": "stream",
          "text": [
            "/usr/local/lib/python3.6/dist-packages/ipykernel_launcher.py:9: SettingWithCopyWarning: \n",
            "A value is trying to be set on a copy of a slice from a DataFrame\n",
            "\n",
            "See the caveats in the documentation: https://pandas.pydata.org/pandas-docs/stable/user_guide/indexing.html#returning-a-view-versus-a-copy\n",
            "  if __name__ == '__main__':\n",
            "/usr/local/lib/python3.6/dist-packages/ipykernel_launcher.py:10: SettingWithCopyWarning: \n",
            "A value is trying to be set on a copy of a slice from a DataFrame\n",
            "\n",
            "See the caveats in the documentation: https://pandas.pydata.org/pandas-docs/stable/user_guide/indexing.html#returning-a-view-versus-a-copy\n",
            "  # Remove the CWD from sys.path while we load stuff.\n"
          ],
          "name": "stderr"
        },
        {
          "output_type": "stream",
          "text": [
            "\n",
            "| 2020-11-10 | 22:46:12 | 텍스트 감정 분석이 완료되었습니다. 결과를 csv 파일로 저장했습니다.\n",
            "\n",
            "| 2020-11-10 | 22:46:12 | 결과 일부를 출력합니다\n",
            "\n"
          ],
          "name": "stdout"
        },
        {
          "output_type": "execute_result",
          "data": {
            "text/html": [
              "<div>\n",
              "<style scoped>\n",
              "    .dataframe tbody tr th:only-of-type {\n",
              "        vertical-align: middle;\n",
              "    }\n",
              "\n",
              "    .dataframe tbody tr th {\n",
              "        vertical-align: top;\n",
              "    }\n",
              "\n",
              "    .dataframe thead th {\n",
              "        text-align: right;\n",
              "    }\n",
              "</style>\n",
              "<table border=\"1\" class=\"dataframe\">\n",
              "  <thead>\n",
              "    <tr style=\"text-align: right;\">\n",
              "      <th></th>\n",
              "      <th>tokens</th>\n",
              "      <th>pos</th>\n",
              "      <th>neut</th>\n",
              "      <th>neg</th>\n",
              "      <th>sentiment</th>\n",
              "    </tr>\n",
              "  </thead>\n",
              "  <tbody>\n",
              "    <tr>\n",
              "      <th>0</th>\n",
              "      <td>[프랑스, 문화, 연구, 과목, 처음, 봐서, 기존, 대면, 어떤, 방식, 했는지는...</td>\n",
              "      <td>0.628501</td>\n",
              "      <td>0.0622566</td>\n",
              "      <td>0.279012</td>\n",
              "      <td>positive</td>\n",
              "    </tr>\n",
              "    <tr>\n",
              "      <th>1</th>\n",
              "      <td>[온라인, 들었던, 다시, 들을, 있다는, 좋았다, 아무래도, 현장, 몰입, 편이,...</td>\n",
              "      <td>0.419899</td>\n",
              "      <td>0.120597</td>\n",
              "      <td>0.352752</td>\n",
              "      <td>positive</td>\n",
              "    </tr>\n",
              "    <tr>\n",
              "      <th>2</th>\n",
              "      <td>[과제, 없이, 진행, 점도, 도움, 되었던, 학습, 평가, 자체, 시험, 충분하게...</td>\n",
              "      <td>0.536883</td>\n",
              "      <td>0.0815146</td>\n",
              "      <td>0.308025</td>\n",
              "      <td>positive</td>\n",
              "    </tr>\n",
              "    <tr>\n",
              "      <th>3</th>\n",
              "      <td>[전체, 흥미, 유익했다, 중간, 중간, 지금, 배우는, 실생활, 어떻게, 응용, ...</td>\n",
              "      <td>0.49704</td>\n",
              "      <td>0.103796</td>\n",
              "      <td>0.275107</td>\n",
              "      <td>positive</td>\n",
              "    </tr>\n",
              "    <tr>\n",
              "      <th>4</th>\n",
              "      <td>[온라인, 퀴즈, 과제, 실시, 했기에, 기말고사, 과목, 다르게, 중간, 기말고사...</td>\n",
              "      <td>0.448135</td>\n",
              "      <td>0.0541859</td>\n",
              "      <td>0.397263</td>\n",
              "      <td>positive</td>\n",
              "    </tr>\n",
              "    <tr>\n",
              "      <th>5</th>\n",
              "      <td>[온라인, 진행, 되었고, 다양한, 방식, 온라인, 한계, 보완, 하면서, 효과, ...</td>\n",
              "      <td>0.547683</td>\n",
              "      <td>0.0551894</td>\n",
              "      <td>0.274208</td>\n",
              "      <td>positive</td>\n",
              "    </tr>\n",
              "    <tr>\n",
              "      <th>6</th>\n",
              "      <td>[사실, 통계, 가장, 자신, 과목, 더욱, 열심히, 따라가려고, 노력, 엄청, 어...</td>\n",
              "      <td>0.487858</td>\n",
              "      <td>0.0736475</td>\n",
              "      <td>0.333855</td>\n",
              "      <td>positive</td>\n",
              "    </tr>\n",
              "    <tr>\n",
              "      <th>7</th>\n",
              "      <td>[좀, 쉽게, 설명, 이해, 돕기, 설명, 개인, 이야기, 덧붙이실, 있었는데, 덕...</td>\n",
              "      <td>0.480213</td>\n",
              "      <td>0.0913536</td>\n",
              "      <td>0.336881</td>\n",
              "      <td>positive</td>\n",
              "    </tr>\n",
              "    <tr>\n",
              "      <th>8</th>\n",
              "      <td>[웹, 프로그래밍, 기초, 웹, 프로그래밍, 응용, 작년, 들었었다, 둘, 성적, ...</td>\n",
              "      <td>0.541814</td>\n",
              "      <td>0.0542764</td>\n",
              "      <td>0.305955</td>\n",
              "      <td>positive</td>\n",
              "    </tr>\n",
              "    <tr>\n",
              "      <th>9</th>\n",
              "      <td>[얼마, 숙명, 포털, 시험, 결과, 확인, 목표, 했던, 성적, 받았다는, 사실,...</td>\n",
              "      <td>0.397848</td>\n",
              "      <td>0.0525544</td>\n",
              "      <td>0.458141</td>\n",
              "      <td>negative</td>\n",
              "    </tr>\n",
              "  </tbody>\n",
              "</table>\n",
              "</div>"
            ],
            "text/plain": [
              "                                              tokens  ... sentiment\n",
              "0  [프랑스, 문화, 연구, 과목, 처음, 봐서, 기존, 대면, 어떤, 방식, 했는지는...  ...  positive\n",
              "1  [온라인, 들었던, 다시, 들을, 있다는, 좋았다, 아무래도, 현장, 몰입, 편이,...  ...  positive\n",
              "2  [과제, 없이, 진행, 점도, 도움, 되었던, 학습, 평가, 자체, 시험, 충분하게...  ...  positive\n",
              "3  [전체, 흥미, 유익했다, 중간, 중간, 지금, 배우는, 실생활, 어떻게, 응용, ...  ...  positive\n",
              "4  [온라인, 퀴즈, 과제, 실시, 했기에, 기말고사, 과목, 다르게, 중간, 기말고사...  ...  positive\n",
              "5  [온라인, 진행, 되었고, 다양한, 방식, 온라인, 한계, 보완, 하면서, 효과, ...  ...  positive\n",
              "6  [사실, 통계, 가장, 자신, 과목, 더욱, 열심히, 따라가려고, 노력, 엄청, 어...  ...  positive\n",
              "7  [좀, 쉽게, 설명, 이해, 돕기, 설명, 개인, 이야기, 덧붙이실, 있었는데, 덕...  ...  positive\n",
              "8  [웹, 프로그래밍, 기초, 웹, 프로그래밍, 응용, 작년, 들었었다, 둘, 성적, ...  ...  positive\n",
              "9  [얼마, 숙명, 포털, 시험, 결과, 확인, 목표, 했던, 성적, 받았다는, 사실,...  ...  negative\n",
              "\n",
              "[10 rows x 5 columns]"
            ]
          },
          "metadata": {
            "tags": []
          },
          "execution_count": 84
        }
      ]
    },
    {
      "cell_type": "code",
      "metadata": {
        "id": "c6aVZGp3aJtA"
      },
      "source": [
        "# 앞서 정의한 토큰화, 감정 분석 함수를 한 번에 실행하는 함수입니다.\n",
        "\n",
        "def execute_sentiment_analysis2(data, lexicon):\n",
        "\n",
        "  logging(\"주어진 텍스트에 대해 감정 분석을 시작합니다.\")\n",
        "\n",
        "  for i in tqdm(range(0, len(data))):\n",
        "    token_list = get_token(data[\"effort\"][i])\n",
        "    data[\"pos\"][i], data[\"neut\"][i], data[\"neg\"][i], data[\"sentiment\"][i] = get_sentiment(token_list)\n",
        "    data[\"tokens\"][i] = token_list\n",
        "\n",
        "  \n",
        "  #csv 파일로 저장하기\n",
        "  file_name = \"/content/drive/My Drive/colab notebooks/textmining/result/textmining_analysis\" + \".csv\"\n",
        "  data.to_csv(file_name, index = False, encoding = \"utf-8-sig\")\n",
        "  logging(\"텍스트 감정 분석이 완료되었습니다. 결과를 csv 파일로 저장했습니다.\")\n",
        "\n",
        "  return data"
      ],
      "execution_count": 86,
      "outputs": []
    },
    {
      "cell_type": "code",
      "metadata": {
        "id": "n_r6J-QEabL0",
        "outputId": "943a2597-48f9-4187-d744-a487b3c43841",
        "colab": {
          "base_uri": "https://localhost:8080/",
          "height": 727,
          "referenced_widgets": [
            "07be21fbf64b45369ed81fac335b13f0",
            "d96340e4a6b0479292757556f0422b90",
            "0ba6957822174906b41e08f1a5a8abd4",
            "22d5ca5faf2b40d0866a56e17e0a12bb",
            "a749f8e6c0114bcb830186b8e0483263",
            "d292a42402f749cca566c0c09a0242f4",
            "8684661f6e044b06be6fecf8f53850a9",
            "8f278a99ad1a45c9b3c5751de3d24983"
          ]
        }
      },
      "source": [
        "sentiment_result = execute_sentiment_analysis2(blog_data, lexicon)\n",
        "logging(\"결과 일부를 출력합니다\")\n",
        "sentiment_result[[\"tokens\",\"pos\",\"neut\",\"neg\",\"sentiment\"]].head(10)"
      ],
      "execution_count": 87,
      "outputs": [
        {
          "output_type": "stream",
          "text": [
            "| 2020-11-10 | 22:48:28 | 주어진 텍스트에 대해 감정 분석을 시작합니다.\n",
            "\n"
          ],
          "name": "stdout"
        },
        {
          "output_type": "stream",
          "text": [
            "/usr/local/lib/python3.6/dist-packages/ipykernel_launcher.py:7: TqdmDeprecationWarning: This function will be removed in tqdm==5.0.0\n",
            "Please use `tqdm.notebook.tqdm` instead of `tqdm.tqdm_notebook`\n",
            "  import sys\n"
          ],
          "name": "stderr"
        },
        {
          "output_type": "display_data",
          "data": {
            "application/vnd.jupyter.widget-view+json": {
              "model_id": "07be21fbf64b45369ed81fac335b13f0",
              "version_minor": 0,
              "version_major": 2
            },
            "text/plain": [
              "HBox(children=(FloatProgress(value=0.0, max=129.0), HTML(value='')))"
            ]
          },
          "metadata": {
            "tags": []
          }
        },
        {
          "output_type": "stream",
          "text": [
            "/usr/local/lib/python3.6/dist-packages/ipykernel_launcher.py:9: SettingWithCopyWarning: \n",
            "A value is trying to be set on a copy of a slice from a DataFrame\n",
            "\n",
            "See the caveats in the documentation: https://pandas.pydata.org/pandas-docs/stable/user_guide/indexing.html#returning-a-view-versus-a-copy\n",
            "  if __name__ == '__main__':\n",
            "/usr/local/lib/python3.6/dist-packages/ipykernel_launcher.py:10: SettingWithCopyWarning: \n",
            "A value is trying to be set on a copy of a slice from a DataFrame\n",
            "\n",
            "See the caveats in the documentation: https://pandas.pydata.org/pandas-docs/stable/user_guide/indexing.html#returning-a-view-versus-a-copy\n",
            "  # Remove the CWD from sys.path while we load stuff.\n"
          ],
          "name": "stderr"
        },
        {
          "output_type": "stream",
          "text": [
            "\n",
            "| 2020-11-10 | 22:48:30 | 텍스트 감정 분석이 완료되었습니다. 결과를 csv 파일로 저장했습니다.\n",
            "\n",
            "| 2020-11-10 | 22:48:30 | 결과 일부를 출력합니다\n",
            "\n"
          ],
          "name": "stdout"
        },
        {
          "output_type": "execute_result",
          "data": {
            "text/html": [
              "<div>\n",
              "<style scoped>\n",
              "    .dataframe tbody tr th:only-of-type {\n",
              "        vertical-align: middle;\n",
              "    }\n",
              "\n",
              "    .dataframe tbody tr th {\n",
              "        vertical-align: top;\n",
              "    }\n",
              "\n",
              "    .dataframe thead th {\n",
              "        text-align: right;\n",
              "    }\n",
              "</style>\n",
              "<table border=\"1\" class=\"dataframe\">\n",
              "  <thead>\n",
              "    <tr style=\"text-align: right;\">\n",
              "      <th></th>\n",
              "      <th>tokens</th>\n",
              "      <th>pos</th>\n",
              "      <th>neut</th>\n",
              "      <th>neg</th>\n",
              "      <th>sentiment</th>\n",
              "    </tr>\n",
              "  </thead>\n",
              "  <tbody>\n",
              "    <tr>\n",
              "      <th>0</th>\n",
              "      <td>[매, 예습, 배울, 인지, 먼저, 파악, 했고, 끝난, 이해, 하려고, 노력, 이...</td>\n",
              "      <td>0.480861</td>\n",
              "      <td>0.137363</td>\n",
              "      <td>0.366392</td>\n",
              "      <td>positive</td>\n",
              "    </tr>\n",
              "    <tr>\n",
              "      <th>1</th>\n",
              "      <td>[제때, 제때, 듣고, 자료, 필기, 관해, 궁금한, 생기, 질문, 헷갈리거나, 여...</td>\n",
              "      <td>0.439394</td>\n",
              "      <td>0.272727</td>\n",
              "      <td>0.287879</td>\n",
              "      <td>positive</td>\n",
              "    </tr>\n",
              "    <tr>\n",
              "      <th>2</th>\n",
              "      <td>[도움, 되었던, 방법, 직접, 자료, 프린트, 필기, 방식, 이었는데, 단순히, ...</td>\n",
              "      <td>0.364099</td>\n",
              "      <td>0.0393719</td>\n",
              "      <td>0.471393</td>\n",
              "      <td>negative</td>\n",
              "    </tr>\n",
              "    <tr>\n",
              "      <th>3</th>\n",
              "      <td>[시간, 집중, 들으며, 이해, 최대한, 필기, 남겨, 두려, 하였다, 학기, 온라...</td>\n",
              "      <td>0.349676</td>\n",
              "      <td>0.127181</td>\n",
              "      <td>0.436308</td>\n",
              "      <td>negative</td>\n",
              "    </tr>\n",
              "    <tr>\n",
              "      <th>4</th>\n",
              "      <td>[]</td>\n",
              "      <td>None</td>\n",
              "      <td>None</td>\n",
              "      <td>None</td>\n",
              "      <td>None</td>\n",
              "    </tr>\n",
              "    <tr>\n",
              "      <th>5</th>\n",
              "      <td>[]</td>\n",
              "      <td>None</td>\n",
              "      <td>None</td>\n",
              "      <td>None</td>\n",
              "      <td>None</td>\n",
              "    </tr>\n",
              "    <tr>\n",
              "      <th>6</th>\n",
              "      <td>[항상, 미리, 수강, 하면서, 모르는, 빨리, 깨우치기, 노력, 이해, 되지, 않...</td>\n",
              "      <td>0.4778</td>\n",
              "      <td>0.0972036</td>\n",
              "      <td>0.366086</td>\n",
              "      <td>positive</td>\n",
              "    </tr>\n",
              "    <tr>\n",
              "      <th>7</th>\n",
              "      <td>[작가, 이러한, 단서, 독자, 주지, 이런, 세세한, 부분, 설명, 필요하기에, ...</td>\n",
              "      <td>0.422369</td>\n",
              "      <td>0.0763215</td>\n",
              "      <td>0.39951</td>\n",
              "      <td>positive</td>\n",
              "    </tr>\n",
              "    <tr>\n",
              "      <th>8</th>\n",
              "      <td>[들으면서, 실습, 시간, 안, 실습, 문제, 해결, 실습, 문제, 대략, 파악, ...</td>\n",
              "      <td>0.408214</td>\n",
              "      <td>0.0546429</td>\n",
              "      <td>0.482976</td>\n",
              "      <td>negative</td>\n",
              "    </tr>\n",
              "    <tr>\n",
              "      <th>9</th>\n",
              "      <td>[직접, 강의실, 가지, 않고, 집, 들을, 있다는, 편리했지만, 현장, 정해진, ...</td>\n",
              "      <td>0.460791</td>\n",
              "      <td>0.0470085</td>\n",
              "      <td>0.420085</td>\n",
              "      <td>positive</td>\n",
              "    </tr>\n",
              "  </tbody>\n",
              "</table>\n",
              "</div>"
            ],
            "text/plain": [
              "                                              tokens  ... sentiment\n",
              "0  [매, 예습, 배울, 인지, 먼저, 파악, 했고, 끝난, 이해, 하려고, 노력, 이...  ...  positive\n",
              "1  [제때, 제때, 듣고, 자료, 필기, 관해, 궁금한, 생기, 질문, 헷갈리거나, 여...  ...  positive\n",
              "2  [도움, 되었던, 방법, 직접, 자료, 프린트, 필기, 방식, 이었는데, 단순히, ...  ...  negative\n",
              "3  [시간, 집중, 들으며, 이해, 최대한, 필기, 남겨, 두려, 하였다, 학기, 온라...  ...  negative\n",
              "4                                                 []  ...      None\n",
              "5                                                 []  ...      None\n",
              "6  [항상, 미리, 수강, 하면서, 모르는, 빨리, 깨우치기, 노력, 이해, 되지, 않...  ...  positive\n",
              "7  [작가, 이러한, 단서, 독자, 주지, 이런, 세세한, 부분, 설명, 필요하기에, ...  ...  positive\n",
              "8  [들으면서, 실습, 시간, 안, 실습, 문제, 해결, 실습, 문제, 대략, 파악, ...  ...  negative\n",
              "9  [직접, 강의실, 가지, 않고, 집, 들을, 있다는, 편리했지만, 현장, 정해진, ...  ...  positive\n",
              "\n",
              "[10 rows x 5 columns]"
            ]
          },
          "metadata": {
            "tags": []
          },
          "execution_count": 87
        }
      ]
    }
  ]
}